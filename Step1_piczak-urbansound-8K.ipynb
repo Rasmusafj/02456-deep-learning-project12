{
 "cells": [
  {
   "cell_type": "markdown",
   "metadata": {},
   "source": [
    "## Step 1 - Convolutional neural network for environmental sound classification\n",
    "The following notebook includes the code used to replicate the approach from the article [Environmental Sound Classification with Convolutional Neural Networks](http://karol.piczak.com/papers/Piczak2015-ESC-ConvNet.pdf). The results are obtained by running 10-fold cross validation. \n",
    "\n",
    "**NOTE:** The idea was orignally to obtain a performance comparable to piczak, but since we changed the project plan with our supervisor from Corti, we did not further improve the performance and went on to step 2, where the code is included in the other jupyter notebook. "
   ]
  },
  {
   "cell_type": "markdown",
   "metadata": {},
   "source": [
    "### DATASET ###\n",
    "You need to download the urban-sound-8k dataset from:\n",
    "https://serv.cusp.nyu.edu/projects/urbansounddataset/urbansound8k.html\n",
    "\n",
    "The data needs to be put into a ./datasets/ folder. \n",
    "\n",
    "The dataset consists of 8732 labelled sound clips 4 seconds each\n",
    "They belong to 10 different categories\n"
   ]
  },
  {
   "cell_type": "code",
   "execution_count": 1,
   "metadata": {
    "collapsed": true
   },
   "outputs": [
    {
     "name": "stderr",
     "output_type": "stream",
     "text": [
      "Using Theano backend.\n"
     ]
    }
   ],
   "source": [
    "from __future__ import division\n",
    "import numpy as np\n",
    "import glob\n",
    "import os\n",
    "import librosa\n",
    "import librosa.display\n",
    "from keras.callbacks import EarlyStopping, TensorBoard, ModelCheckpoint\n",
    "from keras.models import Sequential\n",
    "from keras.layers.core import Dense, Activation, Dropout, Flatten\n",
    "from keras.layers import Conv2D\n",
    "from keras.layers import MaxPooling2D\n",
    "from keras import regularizers\n",
    "from keras.optimizers import SGD\n",
    "import platform\n",
    "from keras.models import load_model\n",
    "import sys\n",
    "import matplotlib.pyplot as plt\n",
    "import pandas as pd\n",
    "from sklearn.utils import class_weight\n",
    "\n",
    "# Random seed for reproducibility\n",
    "np.random.seed(1337)\n"
   ]
  },
  {
   "cell_type": "markdown",
   "metadata": {},
   "source": [
    "## Dataloading and pre-processing\n",
    "First we define the path to the datasets. The data is split into 10 folds beforehand. "
   ]
  },
  {
   "cell_type": "code",
   "execution_count": 2,
   "metadata": {
    "collapsed": true
   },
   "outputs": [],
   "source": [
    "seperator = '/'\n",
    "if platform.system() == 'Windows':\n",
    "    seperator = '\\\\'\n",
    "\n",
    "file_ext = \"*.wav\"\n",
    "# for working on both linux and windows\n",
    "data_path = os.path.join('..', 'datasets', 'UrbanSound8K', 'audio')\n",
    "\n",
    "data_dirs = map(lambda d: os.path.join(data_path, d, file_ext), \n",
    "                ['fold1', 'fold2', 'fold3', 'fold4', 'fold5', 'fold6', \n",
    "                 'fold7', 'fold8', 'fold9', 'fold10'])\n",
    "\n",
    "\n"
   ]
  },
  {
   "cell_type": "markdown",
   "metadata": {},
   "source": [
    "Next, we define the loading method. Since the sounds are of varying length, we pad 0's to clips with length < 4s."
   ]
  },
  {
   "cell_type": "code",
   "execution_count": 3,
   "metadata": {
    "collapsed": true
   },
   "outputs": [],
   "source": [
    "def load_sample(file_name, max_segment_size = 88200):\n",
    "    # length of raw sound is 88200 with sample_rate = 22050Hz which is 4 sec\n",
    "    label = file_name.split(seperator)[5].split('-')[1]\n",
    "    sound_raw, sample_rate = librosa.load(file_name)\n",
    "    # Normalize sound\n",
    "    # According to its own max? or wtf\n",
    "    normalization_factor = 1 / np.max(np.abs(sound_raw))\n",
    "    sound_raw = sound_raw * normalization_factor\n",
    "\n",
    "    # Pad zeroes to raw sound\n",
    "    num_zeros = max_segment_size - len(sound_raw)\n",
    "    append_array = np.zeros(num_zeros)\n",
    "    sound_raw = np.append(sound_raw, append_array)\n",
    "\n",
    "    return sound_raw, label"
   ]
  },
  {
   "cell_type": "markdown",
   "metadata": {},
   "source": [
    "Feature extraction is performed using the librosa library. Furthermore, we add delta-features which is local estimate of the derivative of the input data along the selected axis."
   ]
  },
  {
   "cell_type": "code",
   "execution_count": 4,
   "metadata": {
    "collapsed": true
   },
   "outputs": [],
   "source": [
    "def extract_feature_cnn(sound_raw, n_fft = 1024, hop_length = 512, bands = 60):\n",
    "    \"\"\"\n",
    "    @return: shape = (features, bands, frames) for 4 sec\n",
    "    \"\"\"\n",
    "    melspec = librosa.feature.melspectrogram(sound_raw, sr=22050, n_mels=bands, n_fft=1024, hop_length=hop_length)\n",
    "    logspec = librosa.logamplitude(melspec)\n",
    "    delta = librosa.feature.delta(logspec)\n",
    "    features = np.concatenate((np.expand_dims(logspec, 0), np.expand_dims(delta, 0)), axis=0)\n",
    "    return features"
   ]
  },
  {
   "cell_type": "markdown",
   "metadata": {},
   "source": [
    "Piczak splits the data into overlapping segments (he argues this is because the small size of the dataset) and then use a either a majority voting scheme or a probability voting scheme to perform the final classifications. We adopt his method. The dataset is split into either a 50% overlapping window consisting of ~950ms clips or 90% overlapping window consisting of ~2,3s clips. The following rolling window method does this. "
   ]
  },
  {
   "cell_type": "code",
   "execution_count": 5,
   "metadata": {
    "collapsed": true
   },
   "outputs": [],
   "source": [
    "def rolling_window(ts, window, stride = 1):\n",
    "    \"\"\"\n",
    "    Rolling window cutting off the last window if ts is not long enough.\n",
    "    Based on http://www.rigtorp.se/2011/01/01/rolling-statistics-numpy.html\n",
    "    \n",
    "    @return: ((features), band, frames, section_size) = (60, 41, ?)\n",
    "    \"\"\"\n",
    "\n",
    "    # Number of jumps (segments)\n",
    "    num_jumps = int((ts.shape[-1] - window)/stride + 1)\n",
    "\n",
    "    # discard the end of the clip\n",
    "    ts = ts[...,:stride * num_jumps + (window-stride)]\n",
    "\n",
    "    # shape = (2,60,?,41)\n",
    "    shape = ts.shape[:-1] + (num_jumps, window)\n",
    "    strides = ts.strides[:-1] + (stride * ts.strides[-1], ts.strides[-1])\n",
    "\n",
    "\n",
    "    return np.lib.stride_tricks.as_strided(ts, shape=shape, strides=strides)"
   ]
  },
  {
   "cell_type": "markdown",
   "metadata": {},
   "source": [
    "We also convert the labels into one-hot encodings. We do this with the following method. "
   ]
  },
  {
   "cell_type": "code",
   "execution_count": 6,
   "metadata": {
    "collapsed": true
   },
   "outputs": [],
   "source": [
    "def one_hot_encode(labels):\n",
    "    \"\"\"\n",
    "    @param labels: array of integer labels between [0, n].\n",
    "    \"\"\"\n",
    "    n_labels = len(labels)\n",
    "    # Todo: why +1? and fix hacks (not neccesary)\n",
    "    n_unique_labels = max(labels) + 1\n",
    "    n_unique_labels = 10\n",
    "    one_hot_encode = np.zeros((n_labels, n_unique_labels))\n",
    "    one_hot_encode[np.arange(n_labels), labels] = 1\n",
    "\n",
    "    return one_hot_encode"
   ]
  },
  {
   "cell_type": "markdown",
   "metadata": {},
   "source": [
    "Since we train on the segments, but evaluate our model on the actual sound clips we need a to keep track of segments belonging together. Furthermore, we discard segments that are silent. We do this with the following method."
   ]
  },
  {
   "cell_type": "code",
   "execution_count": 7,
   "metadata": {
    "collapsed": true
   },
   "outputs": [],
   "source": [
    "def squeeze_segments(X, y):\n",
    "    \"\"\"\n",
    "    :param X: [(segments, channels, bands, windows)]\n",
    "    :param y: one-hot vectors as labels\n",
    "    :return:\n",
    "    \"\"\"\n",
    "    X_data = []\n",
    "    y_data = []\n",
    "    segment_sizes = []\n",
    "    for index, sample in enumerate(X):\n",
    "        num_segments = 0\n",
    "        for i in range(sample.shape[0]):\n",
    "            # Filter silent segments\n",
    "            if np.mean(sample[i,0,:,:]) > -50:\n",
    "                X_data.append(sample[i])\n",
    "                y_data.append(y[index])\n",
    "                num_segments += 1\n",
    "\n",
    "        segment_sizes.append(num_segments)\n",
    "\n",
    "    return np.asarray(X_data), np.asarray(y_data), np.asarray(segment_sizes)"
   ]
  },
  {
   "cell_type": "markdown",
   "metadata": {},
   "source": [
    "All of the above methods are used in a data-loading loop which loads all of the data into memory. "
   ]
  },
  {
   "cell_type": "code",
   "execution_count": 8,
   "metadata": {
    "collapsed": true
   },
   "outputs": [],
   "source": [
    "def load_data(dirs, stride, window, test=False):\n",
    "    \"\"\"\n",
    "    data_X.shape = (num_samples, features, bands, segments, frames_pr_segment)\n",
    "    data_y.shape = if one_hot then (num_samples, num_categories) else (num_samples, )\n",
    "    \"\"\"\n",
    "\n",
    "    print(\"Loading data...\")\n",
    "    \n",
    "    data_y = []\n",
    "    data_X = []\n",
    "    segment_sizes = []\n",
    "\n",
    "    for dir_ in dirs:\n",
    "        temp_data_X = []\n",
    "        temp_data_y = []\n",
    "        test_counter = 0\n",
    "\n",
    "        for fn in glob.glob(dir_):\n",
    "            if test:\n",
    "                test_counter += 1\n",
    "                if test_counter == 100:\n",
    "                    break\n",
    "            try:\n",
    "                # Split into segments\n",
    "                raw_sound, label = load_sample(file_name=fn)\n",
    "\n",
    "                # Extract feature\n",
    "                features = extract_feature_cnn(raw_sound,\n",
    "                                              n_fft = 1024, hop_length = 512)\n",
    "\n",
    "                # Create segments\n",
    "                x = rolling_window(features, window=window, stride=stride)\n",
    "\n",
    "                # Swap axis so segments is first (2,60,?,41) --> (?,2,60,41)\n",
    "                x = np.swapaxes(x, 1, 2)\n",
    "                x = np.swapaxes(x, 0, 1)\n",
    "\n",
    "                # Append each label and sample\n",
    "                temp_data_X.append(x)\n",
    "                temp_data_y.append(int(label))\n",
    "    \n",
    "            except Exception as e:\n",
    "                print(\"Error encountered while parsing file: \", fn)\n",
    "                continue\n",
    "\n",
    "        # Create one hot encoded y values\n",
    "        temp_data_y = one_hot_encode(temp_data_y)\n",
    "\n",
    "        # Squeese data so each segment is regarded one training sample\n",
    "        temp_data_X, temp_data_y, temp_segment_sizes = squeeze_segments(temp_data_X, temp_data_y)\n",
    "\n",
    "        print(\"{0} - Shape of X: {1}\".format(dir_[31:36], temp_data_X.shape))\n",
    "        print(\"{0} - Shape of y: {1}\".format(dir_[31:36], temp_data_y.shape))\n",
    "        print(\"{0} - Number of samples in each category: {1}\".format(dir_[31:36], np.sum(temp_data_y, axis=0)))\n",
    "\n",
    "        segment_sizes.append(temp_segment_sizes)\n",
    "        data_X.append(temp_data_X)\n",
    "        data_y.append(temp_data_y)\n",
    "    \n",
    "    return data_X, data_y, segment_sizes\n"
   ]
  },
  {
   "cell_type": "markdown",
   "metadata": {},
   "source": [
    "When performing 10-fold cross-validation, we interchange between which folds are used for testing, validation and training. We use 1 fold for testing, 2 folds for evaluation and do this 10-times. "
   ]
  },
  {
   "cell_type": "code",
   "execution_count": 9,
   "metadata": {
    "collapsed": true
   },
   "outputs": [],
   "source": [
    "def divide_into_folds(X, y, current_index):\n",
    "    \"\"\"\n",
    "    :param X: List with X data from our 10 folds\n",
    "    :param y: List with y data from our 10 folds\n",
    "    :param current_index: Currently using fold current_index as test\n",
    "    :return: split\n",
    "    \"\"\"\n",
    "    test_X = X[current_index % 10]\n",
    "    test_y = y[current_index % 10]\n",
    "\n",
    "    val_X = list(X[i] for i in [(current_index + 1) % 10, (current_index + 2) % 10])\n",
    "    val_y = list(y[i] for i in [(current_index + 1) % 10, (current_index + 2) % 10])\n",
    "\n",
    "    val_X = np.asarray([sample for fold in val_X for sample in fold])\n",
    "    val_y = np.asarray([sample for fold in val_y for sample in fold])\n",
    "\n",
    "    train_X = list(X[i] for i in [(current_index + 3) % 10, (current_index + 4) % 10, (current_index + 5) % 10,\n",
    "                                (current_index + 6) % 10, (current_index + 7) % 10, (current_index + 8) % 10,\n",
    "                                (current_index + 9) % 10])\n",
    "\n",
    "    train_y = list(y[i] for i in [(current_index + 3) % 10, (current_index + 4) % 10, (current_index + 5) % 10,\n",
    "                                (current_index + 6) % 10, (current_index + 7) % 10, (current_index + 8) % 10,\n",
    "                                (current_index + 9) % 10])\n",
    "\n",
    "    train_X = np.asarray([sample for fold in train_X for sample in fold])\n",
    "    train_y = np.asarray([sample for fold in train_y for sample in fold])\n",
    "\n",
    "    train_X = np.asarray(train_X)\n",
    "    train_y = np.asarray(train_y)\n",
    "    \n",
    "    return (test_X, test_y), (val_X, val_y), (train_X, train_y)"
   ]
  },
  {
   "cell_type": "markdown",
   "metadata": {},
   "source": [
    "## Architecture\n",
    "The model architecture is exactly as Piczak. The following method builds his model using keras. "
   ]
  },
  {
   "cell_type": "code",
   "execution_count": 10,
   "metadata": {
    "collapsed": true
   },
   "outputs": [],
   "source": [
    "def build_model(train_X, train_y, learning_rate):\n",
    "    \"\"\"\n",
    "    From Pizak\n",
    "    The first convolutional ReLU layer consisted of 80 filters\n",
    "    of rectangular shape (57x6 size, 1x1 stride) allowing\n",
    "    for slight frequency invariance. Max-pooling was applied\n",
    "    with a pool shape of 4x3 and stride of 1x3\n",
    "\n",
    "    Run `squeeze_segment` to get the required shape.\n",
    "        \n",
    "    @param train_X: (samples * segments, features, bands, frames_pr_sections)\n",
    "    @param train_y: (samples * segments, num_categories)\n",
    "    \"\"\"\n",
    "    \n",
    "    print(\"Building model...\")\n",
    "    input_dim = train_X[0][0].shape\n",
    "    output_dim = train_y[0].shape[1]\n",
    "\n",
    "    print(\"Input dim: {0}\".format(input_dim))\n",
    "    print(\"Output dim: {0}\".format(output_dim))\n",
    "    \n",
    "    model = Sequential()\n",
    "    \n",
    "    shared_kwargs = { 'data_format': 'channels_first' }\n",
    "    \n",
    "    # important that train_X has shape (samples, channels, rows, cols)\n",
    "    model.add(Conv2D(80, kernel_size=(57, 6), strides=(1, 1),\n",
    "                     activation='relu',\n",
    "                     input_shape=input_dim,\n",
    "                     kernel_regularizer=regularizers.l2(0.001),\n",
    "                     **shared_kwargs))\n",
    "    \n",
    "    model.add(MaxPooling2D(pool_size=(4, 3), strides=(1, 3), **shared_kwargs))\n",
    "    model.add(Dropout(0.5))\n",
    "    \n",
    "    model.add(Conv2D(80, kernel_size=(1, 3), strides=(1, 1),\n",
    "                     activation='relu',\n",
    "                     kernel_regularizer=regularizers.l2(0.001),\n",
    "                     **shared_kwargs))\n",
    "    \n",
    "    model.add(MaxPooling2D(pool_size=(1, 3), strides=(1, 3), **shared_kwargs))\n",
    "    \n",
    "    model.add(Flatten())\n",
    "    \n",
    "    # Layer 1\n",
    "    model.add(Dense(5000, kernel_regularizer=regularizers.l2(0.001)))\n",
    "    model.add(Activation('relu'))\n",
    "    model.add(Dropout(0.5))\n",
    "    \n",
    "    # layer 2\n",
    "    model.add(Dense(5000, kernel_regularizer=regularizers.l2(0.001)))\n",
    "    model.add(Activation('relu'))\n",
    "    model.add(Dropout(0.5))\n",
    "    \n",
    "    # layer\n",
    "    model.add(Dense(output_dim))\n",
    "    model.add(Activation('softmax'))\n",
    "    \n",
    "    model.compile(loss='categorical_crossentropy',\n",
    "                  optimizer=SGD(lr=learning_rate, nesterov=True, momentum=0.9),\n",
    "                  metrics=[\"accuracy\"])\n",
    "\n",
    "    return model\n"
   ]
  },
  {
   "cell_type": "markdown",
   "metadata": {},
   "source": [
    "## Training and evaluation\n",
    "For each interchange of folds, we have a method which trains the model and saves it. We only save the models with the best evaluation accuracy. "
   ]
  },
  {
   "cell_type": "code",
   "execution_count": 11,
   "metadata": {
    "collapsed": true
   },
   "outputs": [],
   "source": [
    "def train_model(model, train_X, train_y, val_X, val_y, current_fold, epochs=200, ):\n",
    "    print(\"Training model...\")\n",
    "    early_stopping = EarlyStopping(monitor='val_acc', patience=15)\n",
    "\n",
    "    # Callbacks for saving best autoencoder\n",
    "    filepath = \"trained_models/piczak-{0}.hdf5\".format(current_fold)\n",
    "    checkpoint = ModelCheckpoint(filepath, monitor='val_acc', verbose=1, save_best_only=True, mode='auto')\n",
    "\n",
    "    model.fit(train_X, train_y, epochs=epochs, batch_size=1000,\n",
    "              validation_data=(val_X, val_y),\n",
    "              verbose=2,\n",
    "              callbacks=[early_stopping, checkpoint])"
   ]
  },
  {
   "cell_type": "markdown",
   "metadata": {},
   "source": [
    "We evaluate our model for each fold-split using the following functions. We have both majority voiting and probability voting scheme implemented. "
   ]
  },
  {
   "cell_type": "code",
   "execution_count": 12,
   "metadata": {
    "collapsed": true
   },
   "outputs": [],
   "source": [
    "def majority_vote(predictions):\n",
    "    # Majority voting\n",
    "    # Currently favorizes the first categories\n",
    "    predictions_array = np.zeros(10)\n",
    "    for prediction in predictions:\n",
    "        predictions_array[np.argmax(prediction)] += 1\n",
    "\n",
    "    # Returns the first index if multiple max values\n",
    "    return np.argmax(predictions_array)\n",
    "    \n",
    "def accuracy(predicted, expected):\n",
    "    return np.sum(np.equal(predicted, expected)) / len(predicted)\n",
    "\n",
    "def evaluate(current_fold, test_X, test_y, segment_sizes):\n",
    "    \"\"\"\n",
    "    @param: test_X shape (samples * segments, features, bands, frames_pr_sections)\n",
    "    @param: test_y shape (samples,)\n",
    "    \"\"\"\n",
    "\n",
    "    assert test_y.shape[0] == np.sum(segment_sizes)\n",
    "    \n",
    "    print(\"Evaluating model...\")\n",
    "    model = load_model(\"trained_models/piczak-{0}.hdf5\".format(current_fold))\n",
    "    all_predictions = model.predict(test_X)\n",
    "\n",
    "    # Decode one-hot vectors into single labels\n",
    "    test_y = np.argmax(test_y, axis=1)\n",
    "\n",
    "    predictions_prob = []\n",
    "    predictions_majority = []\n",
    "    singe_test_y = []\n",
    "    current_index = 0\n",
    "    for segment_size in segment_sizes:\n",
    "        predictions_prob.append(np.argmax(np.sum(all_predictions[current_index:current_index+segment_size], axis=0)))\n",
    "        predictions_majority.append(majority_vote(all_predictions[current_index:current_index+segment_size]))\n",
    "        singe_test_y.append(test_y[current_index])\n",
    "        current_index += segment_size\n",
    "\n",
    "    predictions_prob_acc = accuracy(np.asarray(predictions_prob), np.asarray(singe_test_y))\n",
    "    predictions_majority_acc = accuracy(np.asarray(predictions_majority), np.asarray(singe_test_y))\n",
    "    \n",
    "    print(\"Test accuracy using majority voting: {}\".format(predictions_prob_acc))\n",
    "    print(\"Test accuracy using probability voting: {}\".format(predictions_majority_acc))\n",
    "\n",
    "    return [predictions_prob, singe_test_y], [predictions_majority, singe_test_y], predictions_prob_acc, predictions_majority_acc"
   ]
  },
  {
   "cell_type": "markdown",
   "metadata": {},
   "source": [
    "At last, we the evaluation and training methods in a loop. Since we have 10 different folds to be used for testing, we have a simple for-loop of 10 iterations.  "
   ]
  },
  {
   "cell_type": "code",
   "execution_count": 13,
   "metadata": {
    "collapsed": true
   },
   "outputs": [],
   "source": [
    "def training_with_10foldCV(X, y, segment_sizes, epochs, learning_rate):\n",
    "    print(\"Performing 10foldCV...\")\n",
    "\n",
    "    erros_prob = []\n",
    "    erros_maj = []\n",
    "    predictions_prob = []\n",
    "    predictions_maj = []\n",
    "    # X and y has to have dimensions 10\n",
    "    for i in range(10):\n",
    "        # Divide into train, test and validation\n",
    "        print(\"Using fold{0} as test\".format(i+1))\n",
    "\n",
    "        model = build_model(X, y, learning_rate)\n",
    "        test, val, train = divide_into_folds(X, y, i)\n",
    "        train_model(model, train[0], train[1], val[0], val[1], i, epochs=epochs)\n",
    "\n",
    "        # Evaluate the trained model\n",
    "        prob_predictions, maj_predictions, prob_acc, maj_acc = evaluate(i, test[0], test[1], segment_sizes[i])\n",
    "\n",
    "        erros_prob.append(prob_acc)\n",
    "        erros_maj.append(maj_acc)\n",
    "        predictions_prob.append(prob_predictions)\n",
    "        predictions_maj.append(maj_predictions)\n",
    "\n",
    "    return predictions_prob, predictions_maj, erros_prob, erros_maj"
   ]
  },
  {
   "cell_type": "markdown",
   "metadata": {},
   "source": [
    "## Saving data to CSV\n",
    "The interesting plots are a confusion matrix or box-plots with the evaluations from each fold. We save the test predictions and test errors to csv format, in order to easily construct plots of the results. "
   ]
  },
  {
   "cell_type": "code",
   "execution_count": 14,
   "metadata": {
    "collapsed": true
   },
   "outputs": [],
   "source": [
    "\n",
    "def predictions_to_csv(probability, majority, final_output_prefix):\n",
    "    # Flatten predictions from folds\n",
    "    prob = []\n",
    "    maj = []\n",
    "\n",
    "    for fold in probability:\n",
    "        assert len(fold[0]) == len(fold[1])\n",
    "        for pair in zip(fold[0], fold[1]):\n",
    "            prob.append(pair)\n",
    "\n",
    "    for fold in majority:\n",
    "        assert len(fold[0]) == len(fold[1])\n",
    "        for pair in zip(fold[0], fold[1]):\n",
    "           maj.append(pair)\n",
    "\n",
    "\n",
    "    df_prob = pd.DataFrame(prob, columns=['prediction', 'actual'])\n",
    "    df_maj = pd.DataFrame(maj, columns=['prediction', 'actual'])\n",
    "\n",
    "    df_prob.to_csv(final_output_prefix + 'predictions_probability.csv', index=False)\n",
    "    df_maj.to_csv(final_output_prefix + 'predictions_majority.csv', index=False)\n",
    "\n",
    "\n",
    "def accuracy_to_csv(prob_acc, maj_acc, final_output_prefix):\n",
    "    acc_dict = {'probability' : prob_acc,\n",
    "                'majority' : maj_acc\n",
    "                }\n",
    "\n",
    "    df = pd.DataFrame(acc_dict)\n",
    "    df.to_csv(final_output_prefix + 'accuracy.csv', index=False)"
   ]
  },
  {
   "cell_type": "markdown",
   "metadata": {},
   "source": [
    "Now we have everything and are ready to begin training and saving of data. "
   ]
  },
  {
   "cell_type": "code",
   "execution_count": 15,
   "metadata": {
    "collapsed": true
   },
   "outputs": [],
   "source": [
    "def main(final_output_prefix, short_segments=False, long_segments=False, test=False):\n",
    "    epochs = 0\n",
    "    stride = 0\n",
    "    window = 0\n",
    "    raw_segment_size = 0\n",
    "    learning_rate = 0\n",
    "\n",
    "    # Take the exact values as piczak\n",
    "    if short_segments:\n",
    "        epochs = 300\n",
    "        stride = 20\n",
    "        window = 41\n",
    "        learning_rate =  0.002\n",
    "    elif long_segments:\n",
    "        epochs = 150\n",
    "        stride = 50\n",
    "        window = 101\n",
    "        learning_rate = 0.01\n",
    "    else:\n",
    "        print(\"You need to specify which version of piczak to train\")\n",
    "        return\n",
    "    if test:\n",
    "        epochs = 2\n",
    "\n",
    "    # Gets a two list with the data\n",
    "    X, y, segment_sizes = load_data(data_dirs, stride, window, test=test)\n",
    "\n",
    "    predictions_prob, predictions_maj, erros_prob, erros_maj = \\\n",
    "        training_with_10foldCV(X, y, segment_sizes, epochs=epochs, learning_rate=learning_rate)\n",
    "\n",
    "    predictions_to_csv(predictions_prob, predictions_maj, final_output_prefix)\n",
    "    accuracy_to_csv(erros_prob, erros_maj, final_output_prefix)\n",
    "\n",
    "    print(\"Everything went well! :D\")"
   ]
  },
  {
   "cell_type": "code",
   "execution_count": null,
   "metadata": {
    "collapsed": true
   },
   "outputs": [],
   "source": [
    "# Set these values to alter between models\n",
    "# Note: Important to change prefix to the outputted csv files\n",
    "main(final_output_prefix=\"pic_short\", \n",
    "     short_segments=True,\n",
    "     long_segments=False,\n",
    "     test=False)"
   ]
  },
  {
   "cell_type": "markdown",
   "metadata": {},
   "source": [
    "## Visualization of results"
   ]
  },
  {
   "cell_type": "markdown",
   "metadata": {},
   "source": [
    "All of our models were trained on DTU's HPC cluster available for all students. We used titanx GPU's for training. Training took ~5-7 hours with this setup depending on whether we were using long-segments or short-segments. The CSV files are included in this repository, in order to visualize the results. Again, piczak used 2-different segment sizes and 2-different voting schemes. Therefore, we have 4 different models.  \n",
    "\n",
    "### Boxplot\n",
    "First, we show a box-plot of our results of the 4 models. "
   ]
  },
  {
   "cell_type": "code",
   "execution_count": 16,
   "metadata": {},
   "outputs": [
    {
     "name": "stderr",
     "output_type": "stream",
     "text": [
      "IOPub data rate exceeded.\n",
      "The notebook server will temporarily stop sending output\n",
      "to the client in order to avoid crashing it.\n",
      "To change this limit, set the config variable\n",
      "`--NotebookApp.iopub_data_rate_limit`.\n"
     ]
    }
   ],
   "source": [
    "import pandas as pd\n",
    "import numpy as np\n",
    "import matplotlib.pyplot as plt\n",
    "import seaborn as sns\n",
    "import matplotlib\n",
    "from sklearn.metrics import confusion_matrix\n",
    "import itertools\n",
    "from matplotlib.backends.backend_pdf import PdfPages\n",
    "import plotly\n",
    "from plotly.offline import plot\n",
    "import plotly.plotly as py\n",
    "import plotly.graph_objs as go\n",
    "from plotly.offline import init_notebook_mode, plot_mpl\n",
    "import plotly.offline as offline\n",
    "\n",
    "\n",
    "init_notebook_mode()\n",
    "\n",
    "def boxplot_plot(data_short, data_long, save_to='my_boxplot.png'):\n",
    "    trace0 = go.Box(\n",
    "        y=data_short[\"majority\"],\n",
    "        name=\"SM\",\n",
    "        boxpoints=False,\n",
    "        boxmean=True,\n",
    "        marker=dict(\n",
    "            color='rgb(7,40,89)'),\n",
    "        line=dict(\n",
    "            color='rgb(7,40,89)')\n",
    "    )\n",
    "\n",
    "    trace1 = go.Box(\n",
    "        y=data_short[\"probability\"],\n",
    "        name=\"SP\",\n",
    "        boxpoints=False,\n",
    "        boxmean=True,\n",
    "        marker=dict(\n",
    "            color='rgb(9,56,125)'),\n",
    "        line=dict(\n",
    "            color='rgb(9,56,125)')\n",
    "    )\n",
    "\n",
    "\n",
    "    trace2 = go.Box(\n",
    "        y=data_long[\"majority\"],\n",
    "        name=\"LM\",\n",
    "        boxpoints=False,\n",
    "        boxmean=True,\n",
    "        marker=dict(\n",
    "            color='rgb(8,81,156)'),\n",
    "        line=dict(\n",
    "            color='rgb(8,81,156)')\n",
    "    )\n",
    "\n",
    "    trace3 = go.Box(\n",
    "        y=data_long[\"probability\"],\n",
    "        name=\"LP\",\n",
    "        boxpoints=False,\n",
    "        boxmean=True,\n",
    "        marker=dict(\n",
    "            color='rgb(107,174,214)'),\n",
    "        line=dict(\n",
    "            color='rgb(107,174,214)')\n",
    "    )\n",
    "\n",
    "    boxes = [trace0, trace1, trace2, trace3]\n",
    "\n",
    "    layout = go.Layout(\n",
    "        title=\"Performance evaluation\"\n",
    "    )\n",
    "    \n",
    "    fig = go.Figure(data=boxes, layout=layout)\n",
    "\n",
    "    #py.iplot(fig, filename='styled_bar')\n",
    "    offline.plot({'data':boxes, \n",
    "                  'layout':layout},\n",
    "                  auto_open=False, image = 'png', image_filename='bp',\n",
    "             output_type='file', image_width=800, image_height=600, \n",
    "             filename='temp-plot.html', validate=False)\n",
    "    \n",
    "    "
   ]
  },
  {
   "cell_type": "code",
   "execution_count": 17,
   "metadata": {
    "collapsed": true
   },
   "outputs": [],
   "source": [
    "def load_bp_data(data_file):\n",
    "    \"\"\"\n",
    "    Loads the data into a pandas df\n",
    "    :param bp_file: path to the csv file\n",
    "    :return: pandas dataframe\n",
    "    \"\"\"\n",
    "    data = pd.read_csv(data_file)\n",
    "\n",
    "    return data\n",
    "\n",
    "def main_plot(bp_short=None, bp_long=None):\n",
    "\n",
    "    # load data for boxplot\n",
    "    if bp_short != None and bp_long != None:\n",
    "        short = load_bp_data(bp_short)\n",
    "        long = load_bp_data(bp_long)\n",
    "        boxplot_plot(short, long, save_to='.results-piczak/boxplot.png')\n",
    "\n",
    "    return\n"
   ]
  },
  {
   "cell_type": "code",
   "execution_count": 18,
   "metadata": {},
   "outputs": [],
   "source": [
    "main_plot(bp_short='./results-piczak/short_10foldCV/acc_short_10foldCV.csv',\n",
    "     bp_long='./results-piczak/long_10foldCV/acc_long_10foldCV.csv')"
   ]
  },
  {
   "cell_type": "markdown",
   "metadata": {},
   "source": [
    "The main_plot method outputs and html file which is converted to png when opened. We include the png file here. LM is long-segments majority voting scheme, and LP is long-segments probability voting scheme. The same is true for SM and SP, just with short-segments. \n",
    "\n",
    "![](./results-piczak/bp.png?raw=true)"
   ]
  },
  {
   "cell_type": "markdown",
   "metadata": {},
   "source": [
    "The short-segment models are almost comparable to what piczak achieved. Piczak however achieved considerable better performance on the long-segment models. Improvements could possible have been made, but as mentioned in the beginning, we decided to focus on semi-supervised learning instead. "
   ]
  },
  {
   "cell_type": "markdown",
   "metadata": {},
   "source": [
    "## Confusion matrix\n",
    "Since our SP model achieved the highest mean performance, we only include the confusion matrix for this. "
   ]
  },
  {
   "cell_type": "code",
   "execution_count": 19,
   "metadata": {
    "collapsed": true
   },
   "outputs": [],
   "source": [
    "def confusion_matrix_plot(data_prob, save_to='cm.pdf'):\n",
    "    categories = ['air conditioner', 'carhorn', 'children playing', 'dog bark',\n",
    "                  'drilling', 'engine idling', 'gun shot', 'jackhammer',\n",
    "                  'siren', 'street music']\n",
    "\n",
    "    conf_arr = confusion_matrix(data_prob['actual'], data_prob['prediction'])\n",
    "\n",
    "    norm_conf = []\n",
    "    for i in conf_arr:\n",
    "        a = 0\n",
    "        tmp_arr = []\n",
    "        a = sum(i, 0)\n",
    "        for j in i:\n",
    "            tmp_arr.append(float(j) / float(a))\n",
    "        norm_conf.append(tmp_arr)\n",
    "\n",
    "    norm_conf = np.array(norm_conf)\n",
    "    fig = plt.figure()\n",
    "    plt.clf()\n",
    "    ax = fig.add_subplot(111)\n",
    "    ax.set_aspect(1)\n",
    "    res = ax.imshow(norm_conf, cmap=plt.cm.Reds,\n",
    "                    interpolation='nearest')\n",
    "\n",
    "    fig.set_dpi(120)\n",
    "    width, height = conf_arr.shape\n",
    "\n",
    "    thresh = 0.32\n",
    "    for x in range(width):\n",
    "        for y in range(height):\n",
    "            ax.annotate(str(conf_arr[x][y]), xy=(y, x),\n",
    "                        horizontalalignment='center',\n",
    "                        verticalalignment='center',\n",
    "                        color=\"white\" if norm_conf[x, y] > thresh else \"black\")\n",
    "\n",
    "\n",
    "    cb = fig.colorbar(res)\n",
    "\n",
    "    plt.xticks(range(width), categories[:width], rotation='vertical')\n",
    "    plt.yticks(range(height), categories[:height])\n",
    "    plt.subplots_adjust(bottom=0.30)\n",
    "    ax.set_xlabel('Predicted label')\n",
    "    ax.set_ylabel('True label')\n",
    "    plt.show()\n",
    "\n",
    "def load_cm_data(cm_file):\n",
    "    \"\"\"\n",
    "    Loads the data into a pandas df\n",
    "    :param cm_file_prob: path to the csv file\n",
    "    :param cm_file_maj: path to the csv file\n",
    "    :return: two pandas dataframes with the data\n",
    "    \"\"\"\n",
    "    data = pd.read_csv(cm_file)\n",
    "\n",
    "    return data\n",
    "\n",
    "\n",
    "def main(bp_short=None, bp_long=None, cm_file=None):\n",
    "    # Load data for confusion matrix\n",
    "    if (cm_file != None):\n",
    "        data = load_cm_data(cm_file)\n",
    "        confusion_matrix_plot(data)\n",
    "\n",
    "    return"
   ]
  },
  {
   "cell_type": "code",
   "execution_count": 20,
   "metadata": {},
   "outputs": [
    {
     "data": {
      "image/png": "[encoded data removed]",
      "text/plain": [
       "<matplotlib.figure.Figure at 0x10f3cec50>"
      ]
     },
     "metadata": {},
     "output_type": "display_data"
    }
   ],
   "source": [
    "main(cm_file='./results-piczak/short_10foldCV/probability_short.csv')"
   ]
  },
  {
   "cell_type": "markdown",
   "metadata": {},
   "source": [
    "Clearly, our model has learned something interesting and with mean accuracy of ~62% for the 10 folds, we also expect a confusion matrix with a coloured diagonal. Some clear faults are the drilling and air conditioner categories, which seems to be favored by the model. A lot of small improvements can be done in order to obtain the same 73% as Piczaks article, but again, this was not the goal of the project. "
   ]
  },
  {
   "cell_type": "code",
   "execution_count": null,
   "metadata": {
    "collapsed": true
   },
   "outputs": [],
   "source": []
  }
 ],
 "metadata": {
  "kernelspec": {
   "display_name": "Python 3",
   "language": "python",
   "name": "python3"
  },
  "language_info": {
   "codemirror_mode": {
    "name": "ipython",
    "version": 3
   },
   "file_extension": ".py",
   "mimetype": "text/x-python",
   "name": "python",
   "nbconvert_exporter": "python",
   "pygments_lexer": "ipython3",
   "version": "3.6.2"
  }
 },
 "nbformat": 4,
 "nbformat_minor": 1
}
